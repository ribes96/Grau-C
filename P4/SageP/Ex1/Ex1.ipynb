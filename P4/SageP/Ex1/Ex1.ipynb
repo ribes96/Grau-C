{
 "cells": [
  {
   "cell_type": "code",
   "execution_count": null,
   "metadata": {
    "collapsed": true
   },
   "outputs": [],
   "source": [
    "# E es una curva eliptica\n",
    "def verificar_firma(f1,f2,n,h,publicKey_x, publicKey_y,E):\n",
    "    aux = f2.inverse_mod(n)\n",
    "    w_1 = Mod(h * aux,n)\n",
    "    w_2 = Mod(f1*aux,n)\n",
    "    Q = E([publicKey_x, publicKey_y])\n",
    "    P = w_1 * G + w_2 * Q\n",
    "    cmp1 = Mod(P[0],n)\n",
    "    cmp2 = Mod(f1,n)\n",
    "    return cmp1 == cmp2"
   ]
  },
  {
   "cell_type": "code",
   "execution_count": null,
   "metadata": {
    "collapsed": true
   },
   "outputs": [],
   "source": [
    "def my_bin(a):\n",
    "    return bin(a)[2:]\n",
    "\n",
    "# Recive una lista de enteros, y retorna un entero que es la concatenación\n",
    "# de todos ellos, visto como cadenas de 1 y 0s\n",
    "def my_concat(l):\n",
    "    ret = \"\"\n",
    "    for i in l:\n",
    "        ret += my_bin(i)\n",
    "    retVal = int(ret, 2)\n",
    "    return retVal"
   ]
  },
  {
   "cell_type": "code",
   "execution_count": 6,
   "metadata": {
    "collapsed": false
   },
   "outputs": [],
   "source": [
    "# Datos de la curva\n",
    "\n",
    "p = \n",
    "orden = \n",
    "n = orden\n",
    "a=-3\n",
    "b = \n",
    "Gx=\n",
    "Gy=\n",
    "\n",
    "# Datos de la conexión\n",
    "publicKey_GoogleX=\n",
    "publicKey_GoogleY=\n",
    "\n",
    "random.client = \n",
    "random.server = \n",
    "server.key.params.Curve_Type = \n",
    "server.key.params.Named_Curve =\n",
    "server.key.params.Pubkey_Length = \n",
    "server.key.params.Pubkey = \n",
    "\n",
    "to_concat_list = [\n",
    "    random.client,\n",
    "    random.server,\n",
    "    server.key.params.Curve_Type,\n",
    "    server.key.params.Named_Curve,\n",
    "    server.key.params.Pubkey_Length,\n",
    "    server.key.params.Pubkey\n",
    "]\n",
    "\n",
    "to_sha = my_concat(to_concat_list)\n",
    "\n",
    "#Ahora con bash tengo que hacer su sha256 y ponerlo en h\n",
    "h =\n",
    "\n",
    "# Firma\n",
    "f1 = \n",
    "f2 = \n",
    "\n",
    "Zp = Zmod(p)\n",
    "E = EllipticCurve(Zp,[a,b])\n",
    "\n",
    "signatura_correcta = verificar_firma(f1,f2,n,h,publicKey_GoogleX, publicKey_GoogleY,E)\n",
    "\n",
    "if signatura_correcta:\n",
    "    print(\"La signatura SÍ es correcta\")\n",
    "else:\n",
    "    print(\"ERROR:    La signatura no es correcta\")"
   ]
  }
 ],
 "metadata": {
  "kernelspec": {
   "display_name": "SageMath 8.1",
   "language": "",
   "name": "sagemath"
  },
  "language_info": {
   "codemirror_mode": {
    "name": "ipython",
    "version": 2
   },
   "file_extension": ".py",
   "mimetype": "text/x-python",
   "name": "python",
   "nbconvert_exporter": "python",
   "pygments_lexer": "ipython2",
   "version": "2.7.14"
  }
 },
 "nbformat": 4,
 "nbformat_minor": 2
}
